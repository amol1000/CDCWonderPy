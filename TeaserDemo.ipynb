{
 "cells": [
  {
   "cell_type": "code",
   "execution_count": 1,
   "metadata": {},
   "outputs": [],
   "source": [
    "import cdcwonderpy as wonder\n",
    "from cdcwonderpy.enums import *\n",
    "from cdcwonderpy.icd10code import *\n",
    "from cdcwonderpy.ages import *"
   ]
  },
  {
   "cell_type": "code",
   "execution_count": null,
   "metadata": {},
   "outputs": [],
   "source": [
    "req = wonder.Request()\n",
    "req.age_groups(Ages.range(15, 44))\n",
    "req.cause_of_death(ICD10Code.description_best_match(\"Diseases of the digestive system\"))\n",
    "req.group_by(Grouping.YEAR, Grouping.RACE)\n",
    "response = req.send()\n",
    "response.as_dataframe()"
   ]
  }
 ],
 "metadata": {
  "kernelspec": {
   "display_name": "Python 3",
   "language": "python",
   "name": "python3"
  },
  "language_info": {
   "codemirror_mode": {
    "name": "ipython",
    "version": 3
   },
   "file_extension": ".py",
   "mimetype": "text/x-python",
   "name": "python",
   "nbconvert_exporter": "python",
   "pygments_lexer": "ipython3",
   "version": "3.7.4"
  }
 },
 "nbformat": 4,
 "nbformat_minor": 2
}
