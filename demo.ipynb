{
 "cells": [
  {
   "cell_type": "markdown",
   "metadata": {},
   "source": [
    "# CDCWonderPy"
   ]
  },
  {
   "cell_type": "code",
   "execution_count": 1,
   "metadata": {},
   "outputs": [],
   "source": [
    "import cdcwonderpy as wonder\n",
    "from cdcwonderpy.enums import *\n",
    "from cdcwonderpy.icd10code import *\n",
    "from cdcwonderpy.ages import *"
   ]
  },
  {
   "cell_type": "code",
   "execution_count": 2,
   "metadata": {},
   "outputs": [],
   "source": [
    "req = wonder.Request()\n",
    "req.age_groups(Ages.range(15, 44))\n",
    "req.cause_of_death(ICD10Code.description_best_match(\"Diseases of the digestive system\"))\n",
    "req.group_by(Grouping.YEAR, Grouping.RACE)\n",
    "response = req.send()"
   ]
  },
  {
   "cell_type": "code",
   "execution_count": 3,
   "metadata": {},
   "outputs": [
    {
     "data": {
      "text/html": [
       "<div>\n",
       "<style scoped>\n",
       "    .dataframe tbody tr th:only-of-type {\n",
       "        vertical-align: middle;\n",
       "    }\n",
       "\n",
       "    .dataframe tbody tr th {\n",
       "        vertical-align: top;\n",
       "    }\n",
       "\n",
       "    .dataframe thead th {\n",
       "        text-align: right;\n",
       "    }\n",
       "</style>\n",
       "<table border=\"1\" class=\"dataframe\">\n",
       "  <thead>\n",
       "    <tr style=\"text-align: right;\">\n",
       "      <th></th>\n",
       "      <th>Year</th>\n",
       "      <th>Race</th>\n",
       "      <th>Deaths</th>\n",
       "      <th>Population</th>\n",
       "      <th>Crude Rate Per 100,000</th>\n",
       "    </tr>\n",
       "  </thead>\n",
       "  <tbody>\n",
       "    <tr>\n",
       "      <td>0</td>\n",
       "      <td>1999</td>\n",
       "      <td>American Indian or Alaska Native</td>\n",
       "      <td>210.0</td>\n",
       "      <td>1375207.0</td>\n",
       "      <td>15.270428</td>\n",
       "    </tr>\n",
       "    <tr>\n",
       "      <td>1</td>\n",
       "      <td>1999</td>\n",
       "      <td>Asian or Pacific Islander</td>\n",
       "      <td>73.0</td>\n",
       "      <td>5813970.0</td>\n",
       "      <td>1.255596</td>\n",
       "    </tr>\n",
       "    <tr>\n",
       "      <td>2</td>\n",
       "      <td>1999</td>\n",
       "      <td>Black or African American</td>\n",
       "      <td>1176.0</td>\n",
       "      <td>17026405.0</td>\n",
       "      <td>6.906919</td>\n",
       "    </tr>\n",
       "    <tr>\n",
       "      <td>3</td>\n",
       "      <td>1999</td>\n",
       "      <td>White</td>\n",
       "      <td>5067.0</td>\n",
       "      <td>99715532.0</td>\n",
       "      <td>5.081455</td>\n",
       "    </tr>\n",
       "    <tr>\n",
       "      <td>4</td>\n",
       "      <td>2000</td>\n",
       "      <td>American Indian or Alaska Native</td>\n",
       "      <td>213.0</td>\n",
       "      <td>1438695.0</td>\n",
       "      <td>14.805084</td>\n",
       "    </tr>\n",
       "  </tbody>\n",
       "</table>\n",
       "</div>"
      ],
      "text/plain": [
       "   Year                              Race  Deaths  Population  \\\n",
       "0  1999  American Indian or Alaska Native   210.0   1375207.0   \n",
       "1  1999         Asian or Pacific Islander    73.0   5813970.0   \n",
       "2  1999         Black or African American  1176.0  17026405.0   \n",
       "3  1999                             White  5067.0  99715532.0   \n",
       "4  2000  American Indian or Alaska Native   213.0   1438695.0   \n",
       "\n",
       "   Crude Rate Per 100,000  \n",
       "0               15.270428  \n",
       "1                1.255596  \n",
       "2                6.906919  \n",
       "3                5.081455  \n",
       "4               14.805084  "
      ]
     },
     "execution_count": 3,
     "metadata": {},
     "output_type": "execute_result"
    }
   ],
   "source": [
    "df = response.as_dataframe()\n",
    "df.head()"
   ]
  },
  {
   "cell_type": "code",
   "execution_count": 4,
   "metadata": {},
   "outputs": [],
   "source": [
    "from matplotlib import pyplot as plt\n",
    "\n",
    "# Group total number of deaths by year\n",
    "df.groupby(by=['Year']).sum()['Deaths'].plot(title='Deaths from Digestive Disease: United States');\n",
    "fig = plt.gcf()\n",
    "fig.set_size_inches(16, 9)"
   ]
  },
  {
   "cell_type": "markdown",
   "metadata": {},
   "source": [
    "## Simple queries"
   ]
  },
  {
   "cell_type": "code",
   "execution_count": 5,
   "metadata": {},
   "outputs": [
    {
     "name": "stdout",
     "output_type": "stream",
     "text": [
      "    Year     Deaths   Population  Crude Rate Per 100,000\n",
      "0   1999  2391399.0  279040168.0              857.008873\n",
      "1   2000  2403351.0  281421906.0              854.002815\n",
      "2   2001  2416425.0  284968955.0              847.960789\n",
      "3   2002  2443387.0  287625193.0              849.503819\n",
      "4   2003  2448288.0  290107933.0              843.923148\n",
      "5   2004  2397615.0  292805298.0              818.842766\n",
      "6   2005  2448017.0  295516599.0              828.385616\n",
      "7   2006  2426264.0  298379912.0              813.145893\n",
      "8   2007  2423712.0  301231207.0              804.601895\n",
      "9   2008  2471984.0  304093966.0              812.901365\n",
      "10  2009  2437163.0  306771529.0              794.455407\n",
      "11  2010  2468435.0  308745538.0              799.504672\n",
      "12  2011  2515458.0  311591917.0              807.292443\n",
      "13  2012  2543279.0  313914040.0              810.183259\n",
      "14  2013  2596993.0  316128839.0              821.498288\n",
      "15  2014  2626418.0  318857056.0              823.697626\n",
      "16  2015  2712630.0  321418820.0              843.954937\n",
      "17  2016  2744248.0  323127513.0              849.277109\n",
      "18  2017  2813503.0  325719178.0              863.781807\n",
      "19  2018  2839205.0  327167434.0              867.814062\n"
     ]
    }
   ],
   "source": [
    "response = wonder.Request().send()\n",
    "print(response)"
   ]
  },
  {
   "cell_type": "code",
   "execution_count": null,
   "metadata": {},
   "outputs": [],
   "source": []
  }
 ],
 "metadata": {
  "celltoolbar": "Slideshow",
  "kernelspec": {
   "display_name": "Python 3",
   "language": "python",
   "name": "python3"
  },
  "language_info": {
   "codemirror_mode": {
    "name": "ipython",
    "version": 3
   },
   "file_extension": ".py",
   "mimetype": "text/x-python",
   "name": "python",
   "nbconvert_exporter": "python",
   "pygments_lexer": "ipython3",
   "version": "3.7.4"
  },
  "varInspector": {
   "cols": {
    "lenName": 16,
    "lenType": 16,
    "lenVar": 40
   },
   "kernels_config": {
    "python": {
     "delete_cmd_postfix": "",
     "delete_cmd_prefix": "del ",
     "library": "var_list.py",
     "varRefreshCmd": "print(var_dic_list())"
    },
    "r": {
     "delete_cmd_postfix": ") ",
     "delete_cmd_prefix": "rm(",
     "library": "var_list.r",
     "varRefreshCmd": "cat(var_dic_list()) "
    }
   },
   "types_to_exclude": [
    "module",
    "function",
    "builtin_function_or_method",
    "instance",
    "_Feature"
   ],
   "window_display": false
  }
 },
 "nbformat": 4,
 "nbformat_minor": 2
}
