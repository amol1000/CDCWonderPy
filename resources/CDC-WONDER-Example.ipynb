{
 "cells": [
  {
   "cell_type": "markdown",
   "metadata": {
    "slideshow": {
     "slide_type": "slide"
    }
   },
   "source": [
    "# CDC WONDER API Example\n",
    "[CDC WONDER](https://wonder.cdc.gov/) is a query tool from the Centers for Disease Control (CDC) that provides access to a collection of online databases for the analysis of public health data. "
   ]
  },
  {
   "cell_type": "markdown",
   "metadata": {
    "slideshow": {
     "slide_type": "slide"
    }
   },
   "source": [
    "The following are a sampling of databases available through WONDER that provide vital statistics data through CDC's National Center for Health Statistics\n",
    "\n",
    "* [Births](https://wonder.cdc.gov/natality.html)\n",
    "* [Detailed Mortality](https://wonder.cdc.gov/ucd-icd10.html)\n",
    "* [Compressed Mortality](https://wonder.cdc.gov/mortSQL.html)\n",
    "* [Multiple cause of death](https://wonder.cdc.gov/mcd.html)\n",
    "* [Infant Deaths](https://wonder.cdc.gov/lbd.html)"
   ]
  },
  {
   "cell_type": "markdown",
   "metadata": {
    "slideshow": {
     "slide_type": "slide"
    }
   },
   "source": [
    "For this example, we will focus on the [Detailed Mortality](https://wonder.cdc.gov/ucd-icd10.html) database, which provides counts or rates (crude or age-adjusted) for underlying cause of death at the national, state and county levels. Using the query tool, the user can select grouping and filtering variables that are use to generate a dataset. Results are provided as a data table which can then be exported to a tab delimited file or visualized."
   ]
  },
  {
   "cell_type": "markdown",
   "metadata": {
    "slideshow": {
     "slide_type": "slide"
    }
   },
   "source": [
    "WONDER provides an API that allows the same queries to be issued through a POST request to WONDER's web server. Requests and responses are issued in XML format and are detailed in the [API Documentation](https://wonder.cdc.gov/wonder/help/WONDER-API.html) page. "
   ]
  },
  {
   "cell_type": "markdown",
   "metadata": {
    "slideshow": {
     "slide_type": "slide"
    }
   },
   "source": [
    "Each XML request consists of a series of parameter tags with name and value children in the following format:\n",
    "\n",
    "```\n",
    "<request-parameters>\n",
    "    <parameter>\n",
    "        <name></name>\n",
    "        <value></value>\n",
    "    <parameter>\n",
    "    ...\n",
    "</request-parameters>\n",
    "```\n",
    "\n",
    "A reference of parameter names and values can be found on [CDC WONDER Wiki page](https://loyola.campuspack.net/Groups/17FA_CS-703-501/Pet_API#/page/364768481#referenceParameters)"
   ]
  },
  {
   "cell_type": "code",
   "execution_count": 1,
   "metadata": {
    "slideshow": {
     "slide_type": "slide"
    }
   },
   "outputs": [],
   "source": [
    "# by-variables\" or those parameters selected in the \"Group Results By\" and the \"And By\" drop-down lists \n",
    "# in the \"Request Form.\" These \"by-variables\" are the cross-tabulations, stratifications or indexes \n",
    "# to the query results. Expect the results data table to show a row for each category in the by-variables, \n",
    "# and a column for each measure. For example, if you wish to compare data by sex, then \"group results by\" gender, \n",
    "# to get a row for females and a row for males in the output.\n",
    "# M_ are measures to return, the default measures plus any optional measures.\n",
    "\n",
    "# For this example, will group by year and race\n",
    "\n",
    "b_parameters = {\n",
    "    \"B_1\": \"D76.V1-level1\", \n",
    "    \"B_2\": \"D76.V8\", \n",
    "    \"B_3\": \"*None*\", \n",
    "    \"B_4\": \"*None*\", \n",
    "    \"B_5\": \"*None*\"\n",
    "}"
   ]
  },
  {
   "cell_type": "code",
   "execution_count": 2,
   "metadata": {
    "slideshow": {
     "slide_type": "slide"
    }
   },
   "outputs": [],
   "source": [
    "# measures to return, the default measures plus any optional measures\n",
    "\n",
    "# For this example, include deaths, population, and crude rate\n",
    "\n",
    "m_parameters = {\n",
    "    \"M_1\": \"D76.M1\",   # Deaths, must be included\n",
    "    \"M_2\": \"D76.M2\",   # Population, must be included\n",
    "    \"M_3\": \"D76.M3\",   # Crude rate, must be included\n",
    "    #\"M_31\": \"D76.M31\",        # Standard error (crude rate)\n",
    "    #\"M_32\": \"D76.M32\"         # 95% confidence interval (crude rate)\n",
    "    \"M_41\": \"D76.M41\", # Standard error (age-adjusted rate)\n",
    "    \"M_42\": \"D76.M42\"  # 95% confidence interval (age-adjusted rate)\n",
    "}"
   ]
  },
  {
   "cell_type": "code",
   "execution_count": 3,
   "metadata": {
    "slideshow": {
     "slide_type": "slide"
    }
   },
   "outputs": [],
   "source": [
    "# values highlighted in a \"Finder\" control for hierarchical lists, \n",
    "# such as the \"Regions/Divisions/States/Counties hierarchical\" list.\n",
    "\n",
    "# For this example, include all years, months, census regions, hhs regions, states. Only include ICD-10 K00-K92\n",
    "# for disease of the digestive system\n",
    "\n",
    "f_parameters = {\n",
    "    \"F_D76.V1\": [\"*All*\"], # year/month\n",
    "    \"F_D76.V10\": [\"*All*\"], # Census Regions - dont change\n",
    "    \"F_D76.V2\": [\"K00-K92\"], # ICD-10 Codes\n",
    "    \"F_D76.V27\": [\"*All*\"], # HHS Regions - dont change\n",
    "    \"F_D76.V9\": [\"*All*\"] # State County - dont change\n",
    "}"
   ]
  },
  {
   "cell_type": "code",
   "execution_count": 4,
   "metadata": {
    "slideshow": {
     "slide_type": "slide"
    }
   },
   "outputs": [],
   "source": [
    "# contents of the \"Currently selected\" information areas next to \"Finder\" controls in the \"Request Form.\"\n",
    "\n",
    "# For this example, include all dates, census regions, hhs regions, and states.\n",
    "# Only include ICD-10 code K00-K92 for disease of the digestive system\n",
    "\n",
    "i_parameters = {\n",
    "    \"I_D76.V1\": \"*All* (All Dates)\",  # year/month\n",
    "    \"I_D76.V10\": \"*All* (The United States)\", # Census Regions - dont change\n",
    "    \"I_D76.V2\": \"K00-K92 (Diseases of the digestive system)\", # ICD-10 Codes\n",
    "    \"I_D76.V27\": \"*All* (The United States)\", # HHS Regions - dont change\n",
    "    \"I_D76.V9\": \"*All* (The United States)\" # State County - dont change\n",
    "}"
   ]
  },
  {
   "cell_type": "code",
   "execution_count": 5,
   "metadata": {
    "slideshow": {
     "slide_type": "slide"
    }
   },
   "outputs": [],
   "source": [
    "# variable values to limit in the \"where\" clause of the query, found in multiple select \n",
    "# list boxes and advanced finder text entry boxes in the \"Request Form.\"\n",
    "\n",
    "# For this example, we want to include ten-year age groups for ages 15-44.\n",
    "# For all other categories, include all values\n",
    "\n",
    "v_parameters = {\n",
    "    \"V_D76.V1\": \"\",         # Year/Month\n",
    "    \"V_D76.V10\": \"\",        # Census Regions\n",
    "    \"V_D76.V11\": \"*All*\",   # 2006 Urbanization\n",
    "    \"V_D76.V12\": \"*All*\",   # ICD-10 130 Cause List (Infants)\n",
    "    \"V_D76.V17\": \"*All*\",   # Hispanic Origin\n",
    "    \"V_D76.V19\": \"*All*\",   # 2013 Urbanization\n",
    "    \"V_D76.V2\": \"\",         # ICD-10 Codes\n",
    "    \"V_D76.V20\": \"*All*\",   # Autopsy\n",
    "    \"V_D76.V21\": \"*All*\",   # Place of Death\n",
    "    \"V_D76.V22\": \"*All*\",   # Injury Intent\n",
    "    \"V_D76.V23\": \"*All*\",   # Injury Mechanism and All Other Leading Causes\n",
    "    \"V_D76.V24\": \"*All*\",   # Weekday\n",
    "    \"V_D76.V25\": \"*All*\",   # Drug/Alcohol Induced Causes\n",
    "    \"V_D76.V27\": \"\",        # HHS Regions\n",
    "    \"V_D76.V4\": \"*All*\",    # ICD-10 113 Cause List\n",
    "#     \"V_D76.V5\": [\"15-24\", \"25-34\", \"35-44\"], # Ten-Year Age Groups\n",
    "    \"V_D76.V5\": \"*All*\",\n",
    "#     \"V_D76.V51\": \"*All*\",   # Five-Year Age Groups\n",
    "    \"V_D76.V51\": [\"45-49\", \"50-54\", \"55-59\", \"60-64\"],\n",
    "    \"V_D76.V52\": \"*All*\",   # Single-Year Ages\n",
    "    \"V_D76.V6\": \"00\",       # Infant Age Groups\n",
    "    \"V_D76.V7\": \"*All*\",    # Gender\n",
    "    \"V_D76.V8\": \"*All*\",    # Race\n",
    "    \"V_D76.V9\": \"\"          # State/County\n",
    "}"
   ]
  },
  {
   "cell_type": "code",
   "execution_count": 6,
   "metadata": {
    "slideshow": {
     "slide_type": "slide"
    }
   },
   "outputs": [],
   "source": [
    "# other parameters, such as radio buttons, checkboxes, and lists that are not data categories\n",
    "\n",
    "# For this example, include age-adjusted rates, use ten-year age groups (D76.V5), use state location by default, \n",
    "# show rates per 100,000, use 2013 urbanization and use ICD-10 Codes (D76.V2) for cause of death category\n",
    "\n",
    "o_parameters = {\n",
    "    \"O_V10_fmode\": \"freg\",    # Use regular finder and ignore v parameter value\n",
    "    \"O_V1_fmode\": \"freg\",     # Use regular finder and ignore v parameter value\n",
    "    \"O_V27_fmode\": \"freg\",    # Use regular finder and ignore v parameter value\n",
    "    \"O_V2_fmode\": \"freg\",     # Use regular finder and ignore v parameter value\n",
    "    \"O_V9_fmode\": \"freg\",     # Use regular finder and ignore v parameter value\n",
    "    \"O_aar\": \"aar_std\",       # age-adjusted rates\n",
    "    \"O_aar_pop\": \"0000\",      # population selection for age-adjusted rates\n",
    "    \"O_age\": \"D76.V5\",        # select age-group (e.g. ten-year, five-year, single-year, infant groups)\n",
    "    \"O_javascript\": \"on\",     # Set to on by default\n",
    "    \"O_location\": \"D76.V9\",   # select location variable to use (e.g. state/county, census, hhs regions)\n",
    "    \"O_precision\": \"1\",       # decimal places\n",
    "    \"O_rate_per\": \"100000\",   # rates calculated per X persons\n",
    "    \"O_show_totals\": \"false\",  # Show totals for \n",
    "    \"O_timeout\": \"300\",\n",
    "    \"O_title\": \"Digestive Disease Deaths, by Age Group\",    # title for data run\n",
    "    \"O_ucd\": \"D76.V2\",        # select underlying cause of death category\n",
    "    \"O_urban\": \"D76.V19\"      # select urbanization category\n",
    "}"
   ]
  },
  {
   "cell_type": "code",
   "execution_count": 7,
   "metadata": {
    "slideshow": {
     "slide_type": "slide"
    }
   },
   "outputs": [],
   "source": [
    "# values for non-standard age adjusted rates (see mortality online databases).\n",
    "\n",
    "# For this example, these parameters are ignored as standard age adjusted rates are used\n",
    "\n",
    "vm_parameters = {\n",
    "    \"VM_D76.M6_D76.V10\": \"\",        # Location\n",
    "    \"VM_D76.M6_D76.V17\": \"*All*\",   # Hispanic-Origin\n",
    "    \"VM_D76.M6_D76.V1_S\": \"*All*\",  # Year\n",
    "    \"VM_D76.M6_D76.V7\": \"*All*\",    # Gender\n",
    "    \"VM_D76.M6_D76.V8\": \"*All*\"     # Race\n",
    "}"
   ]
  },
  {
   "cell_type": "code",
   "execution_count": 8,
   "metadata": {
    "slideshow": {
     "slide_type": "slide"
    }
   },
   "outputs": [],
   "source": [
    "# Miscellaneous hidden inputs/parameters usually passed by web form. These do not change.\n",
    "misc_parameters = {\n",
    "    \"action-Send\": \"Send\",\n",
    "    \"finder-stage-D76.V1\": \"codeset\",\n",
    "    \"finder-stage-D76.V1\": \"codeset\",\n",
    "    \"finder-stage-D76.V2\": \"codeset\",\n",
    "    \"finder-stage-D76.V27\": \"codeset\",\n",
    "    \"finder-stage-D76.V9\": \"codeset\",\n",
    "    \"stage\": \"request\"\n",
    "}"
   ]
  },
  {
   "cell_type": "code",
   "execution_count": 9,
   "metadata": {
    "slideshow": {
     "slide_type": "slide"
    }
   },
   "outputs": [],
   "source": [
    "def createParameterList(parameterList):\n",
    "    \"\"\"Helper function to create a parameter list from a dictionary object\"\"\"\n",
    "    \n",
    "    parameterString = \"\"\n",
    "    \n",
    "    for key in parameterList:\n",
    "        parameterString += \"<parameter>\\n\"\n",
    "        parameterString += \"<name>\" + key + \"</name>\\n\"\n",
    "        \n",
    "        if isinstance(parameterList[key], list):\n",
    "            for value in parameterList[key]:\n",
    "                parameterString += \"<value>\" + value + \"</value>\\n\"\n",
    "        else:\n",
    "            parameterString += \"<value>\" + parameterList[key] + \"</value>\\n\"\n",
    "        \n",
    "        parameterString += \"</parameter>\\n\"\n",
    "        \n",
    "    return parameterString"
   ]
  },
  {
   "cell_type": "code",
   "execution_count": 10,
   "metadata": {
    "slideshow": {
     "slide_type": "slide"
    }
   },
   "outputs": [],
   "source": [
    "xml_request = \"<request-parameters>\\n\"\n",
    "xml_request += createParameterList(b_parameters)\n",
    "xml_request += createParameterList(m_parameters)\n",
    "xml_request += createParameterList(f_parameters)\n",
    "xml_request += createParameterList(i_parameters)\n",
    "xml_request += createParameterList(o_parameters)\n",
    "xml_request += createParameterList(vm_parameters)\n",
    "xml_request += createParameterList(v_parameters)\n",
    "xml_request += createParameterList(misc_parameters)\n",
    "xml_request += \"</request-parameters>\""
   ]
  },
  {
   "cell_type": "code",
   "execution_count": 11,
   "metadata": {
    "slideshow": {
     "slide_type": "slide"
    }
   },
   "outputs": [],
   "source": [
    "import requests\n",
    "\n",
    "url = \"https://wonder.cdc.gov/controller/datarequest/D76\"\n",
    "response = requests.post(url, data={\"request_xml\": xml_request, \"accept_datause_restrictions\": \"true\"})\n",
    "\n",
    "if response.status_code == 200:\n",
    "    data = response.text\n",
    "else:\n",
    "    print(\"something went wrong\")"
   ]
  },
  {
   "cell_type": "code",
   "execution_count": 12,
   "metadata": {
    "slideshow": {
     "slide_type": "slide"
    }
   },
   "outputs": [],
   "source": [
    "# BeautifulSoup library facilitates parsing of XML response\n",
    "import bs4 as bs\n",
    "\n",
    "# This library faciliates 2-dimensional array operations and visualization\n",
    "import pandas as pd"
   ]
  },
  {
   "cell_type": "code",
   "execution_count": 13,
   "metadata": {
    "code_folding": [],
    "slideshow": {
     "slide_type": "slide"
    }
   },
   "outputs": [],
   "source": [
    "def xml2df(xml_data):\n",
    "    \"\"\" This function grabs the root of the XML document and iterates over\n",
    "        the 'r' (row) and 'c' (column) tags of the data-table\n",
    "        Rows with a 'v' attribute contain a numerical value\n",
    "        Rows with a 'l attribute contain a text label and may contain an\n",
    "        additional 'r' (rowspan) tag which identifies how many rows the value\n",
    "        should be added. If present, that label will be added to the following\n",
    "        rows of the data table.\n",
    "    \n",
    "        Function returns a two-dimensional array or data frame that may be \n",
    "        used by the pandas library.\"\"\"\n",
    "    \n",
    "    root = bs.BeautifulSoup(xml_data,\"lxml\")\n",
    "    all_records = []\n",
    "    row_number = 0\n",
    "    rows = root.find_all(\"r\")\n",
    "    \n",
    "    for row in rows:\n",
    "        if row_number >= len(all_records):\n",
    "            all_records.append([])\n",
    "              \n",
    "        for cell in row.find_all(\"c\"):\n",
    "            if 'v' in cell.attrs:\n",
    "                try:\n",
    "                    all_records[row_number].append(float(cell.attrs[\"v\"].replace(',','')))\n",
    "                except ValueError:\n",
    "                    all_records[row_number].append(cell.attrs[\"v\"])\n",
    "            else:\n",
    "                if 'r' not in cell.attrs:\n",
    "                    all_records[row_number].append(cell.attrs[\"l\"])\n",
    "                else:\n",
    "                \n",
    "                    for row_index in range(int(cell.attrs[\"r\"])):\n",
    "                        if (row_number + row_index) >= len(all_records):\n",
    "                            all_records.append([])\n",
    "                            all_records[row_number + row_index].append(cell.attrs[\"l\"])\n",
    "                        else:\n",
    "                            all_records[row_number + row_index].append(cell.attrs[\"l\"])\n",
    "                                           \n",
    "        row_number += 1\n",
    "    return all_records"
   ]
  },
  {
   "cell_type": "code",
   "execution_count": 16,
   "metadata": {
    "slideshow": {
     "slide_type": "slide"
    }
   },
   "outputs": [
    {
     "data": {
      "text/html": [
       "<div>\n",
       "<style scoped>\n",
       "    .dataframe tbody tr th:only-of-type {\n",
       "        vertical-align: middle;\n",
       "    }\n",
       "\n",
       "    .dataframe tbody tr th {\n",
       "        vertical-align: top;\n",
       "    }\n",
       "\n",
       "    .dataframe thead th {\n",
       "        text-align: right;\n",
       "    }\n",
       "</style>\n",
       "<table border=\"1\" class=\"dataframe\">\n",
       "  <thead>\n",
       "    <tr style=\"text-align: right;\">\n",
       "      <th></th>\n",
       "      <th>Year</th>\n",
       "      <th>Race</th>\n",
       "      <th>Deaths</th>\n",
       "      <th>Population</th>\n",
       "      <th>Crude Rate</th>\n",
       "      <th>Age-adjusted Rate</th>\n",
       "      <th>Age-adjusted Rate Standard Error</th>\n",
       "    </tr>\n",
       "  </thead>\n",
       "  <tbody>\n",
       "    <tr>\n",
       "      <td>0</td>\n",
       "      <td>1999</td>\n",
       "      <td>American Indian or Alaska Native</td>\n",
       "      <td>845.0</td>\n",
       "      <td>2832761.0</td>\n",
       "      <td>29.8</td>\n",
       "      <td>47.9</td>\n",
       "      <td>1.8</td>\n",
       "    </tr>\n",
       "    <tr>\n",
       "      <td>1</td>\n",
       "      <td>1999</td>\n",
       "      <td>Asian or Pacific Islander</td>\n",
       "      <td>1007.0</td>\n",
       "      <td>11346496.0</td>\n",
       "      <td>8.9</td>\n",
       "      <td>15.4</td>\n",
       "      <td>0.5</td>\n",
       "    </tr>\n",
       "    <tr>\n",
       "      <td>2</td>\n",
       "      <td>1999</td>\n",
       "      <td>Black or African American</td>\n",
       "      <td>9080.0</td>\n",
       "      <td>36173121.0</td>\n",
       "      <td>25.1</td>\n",
       "      <td>35.3</td>\n",
       "      <td>0.4</td>\n",
       "    </tr>\n",
       "    <tr>\n",
       "      <td>3</td>\n",
       "      <td>1999</td>\n",
       "      <td>White</td>\n",
       "      <td>71944.0</td>\n",
       "      <td>228687790.0</td>\n",
       "      <td>31.5</td>\n",
       "      <td>30.0</td>\n",
       "      <td>0.1</td>\n",
       "    </tr>\n",
       "    <tr>\n",
       "      <td>4</td>\n",
       "      <td>2000</td>\n",
       "      <td>American Indian or Alaska Native</td>\n",
       "      <td>871.0</td>\n",
       "      <td>2984150.0</td>\n",
       "      <td>29.2</td>\n",
       "      <td>46.0</td>\n",
       "      <td>1.7</td>\n",
       "    </tr>\n",
       "  </tbody>\n",
       "</table>\n",
       "</div>"
      ],
      "text/plain": [
       "   Year                              Race   Deaths   Population  Crude Rate  \\\n",
       "0  1999  American Indian or Alaska Native    845.0    2832761.0        29.8   \n",
       "1  1999         Asian or Pacific Islander   1007.0   11346496.0         8.9   \n",
       "2  1999         Black or African American   9080.0   36173121.0        25.1   \n",
       "3  1999                             White  71944.0  228687790.0        31.5   \n",
       "4  2000  American Indian or Alaska Native    871.0    2984150.0        29.2   \n",
       "\n",
       "   Age-adjusted Rate  Age-adjusted Rate Standard Error  \n",
       "0               47.9                               1.8  \n",
       "1               15.4                               0.5  \n",
       "2               35.3                               0.4  \n",
       "3               30.0                               0.1  \n",
       "4               46.0                               1.7  "
      ]
     },
     "execution_count": 16,
     "metadata": {},
     "output_type": "execute_result"
    }
   ],
   "source": [
    "data_frame = xml2df(data)\n",
    "\n",
    "df = pd.DataFrame(data=data_frame, columns=[\"Year\", \"Race\", \"Deaths\", \"Population\", \"Crude Rate\", \"Age-adjusted Rate\", \"Age-adjusted Rate Standard Error\"])\n",
    "\n",
    "df.head()"
   ]
  },
  {
   "cell_type": "code",
   "execution_count": null,
   "metadata": {
    "code_folding": [],
    "slideshow": {
     "slide_type": "slide"
    }
   },
   "outputs": [],
   "source": [
    "# Load matplotlib for plotting and instruct jupyter to display figures inline\n",
    "from matplotlib import pyplot as plt\n",
    "%matplotlib inline\n",
    "\n",
    "# Group total number of deaths by year\n",
    "df.groupby(by=['Year']).sum()['Deaths'].plot(title='Deaths from Digestive Disease: United States');\n",
    "fig = plt.gcf()\n",
    "fig.set_size_inches(16, 9)"
   ]
  },
  {
   "cell_type": "code",
   "execution_count": null,
   "metadata": {
    "code_folding": [],
    "slideshow": {
     "slide_type": "slide"
    }
   },
   "outputs": [],
   "source": [
    "# Create mult-line chart for deaths by race \n",
    "\n",
    "# Store figure and axis for shared plot\n",
    "fig, ax = plt.subplots()\n",
    "\n",
    "# Store labels for all race groups\n",
    "labels = []\n",
    "\n",
    "# For each group in the groupby object, grab the 'Race' label and create a line plot for it\n",
    "for key, grp in df.groupby(['Race']):\n",
    "    ax = grp.plot(ax=ax, kind='line', x='Year', y='Deaths')\n",
    "    labels.append(key)\n",
    "\n",
    "# Set the labels for each line using the group labels\n",
    "lines, _ = ax.get_legend_handles_labels()\n",
    "ax.legend(lines, labels, loc='best')\n",
    "\n",
    "# Configure chart size and title\n",
    "fig = plt.gcf()\n",
    "fig.set_size_inches(16, 9)\n",
    "plt.title(\"Deaths from Digestive Disease, by Race: United States\");"
   ]
  },
  {
   "cell_type": "code",
   "execution_count": null,
   "metadata": {
    "slideshow": {
     "slide_type": "slide"
    }
   },
   "outputs": [],
   "source": [
    "# New query, this time we wish to group by year, month, and cause of death\n",
    "\n",
    "b_parameters = {\n",
    "    \"B_1\": \"D76.V1-level1\", # Year\n",
    "    \"B_2\": \"D76.V1-level2\", # Month \n",
    "    \"B_3\": \"D76.V2-level3 \",# Cause of death \n",
    "    \"B_4\": \"*None*\", \n",
    "    \"B_5\": \"*None*\"\n",
    "}\n",
    "\n",
    "f_parameters = {\n",
    "    \"F_D76.V1\": [\"*All*\"], # year/month\n",
    "    \"F_D76.V10\": [\"*All*\"], # Census Regions - dont change\n",
    "    \"F_D76.V2\": [\"X40\",\"X41\",\"X42\",\"X43\",\"X44\",\"X60\",\"X61\",\"X62\",\"X63\",\"X64\",\"X85\",\"Y10\",\"Y11\",\"Y12\",\"Y13\",\"Y14\"], \n",
    "        # ICD-10 Codes - Drug overdose deaths are identified using ICD–10 underlying cause-of-death codes: \n",
    "        # X40–X44, X60–X64, X85, and Y10–Y14.\n",
    "    \"F_D76.V27\": [\"*All*\"], # HHS Regions - dont change\n",
    "    \"F_D76.V9\": [\"*All*\"] # State County - dont change\n",
    "}\n",
    "\n",
    "v_parameters[\"V_D76.V5\"] = \"*All*\""
   ]
  },
  {
   "cell_type": "code",
   "execution_count": null,
   "metadata": {
    "slideshow": {
     "slide_type": "slide"
    }
   },
   "outputs": [],
   "source": [
    "xml_request = \"<request-parameters>\\n\"\n",
    "xml_request += createParameterList(b_parameters)\n",
    "xml_request += createParameterList(m_parameters)\n",
    "xml_request += createParameterList(f_parameters)\n",
    "xml_request += createParameterList(i_parameters)\n",
    "xml_request += createParameterList(o_parameters)\n",
    "xml_request += createParameterList(vm_parameters)\n",
    "xml_request += createParameterList(v_parameters)\n",
    "xml_request += createParameterList(misc_parameters)\n",
    "xml_request += \"</request-parameters>\""
   ]
  },
  {
   "cell_type": "code",
   "execution_count": null,
   "metadata": {
    "slideshow": {
     "slide_type": "slide"
    }
   },
   "outputs": [],
   "source": [
    "url = \"https://wonder.cdc.gov/controller/datarequest/D76\"\n",
    "response = requests.post(url, data={\"request_xml\": xml_request, \"accept_datause_restrictions\": \"true\"})\n",
    "\n",
    "if response.status_code == 200:\n",
    "    data = response.text\n",
    "else:\n",
    "    print(\"something went wrong\")"
   ]
  },
  {
   "cell_type": "code",
   "execution_count": null,
   "metadata": {
    "slideshow": {
     "slide_type": "slide"
    }
   },
   "outputs": [],
   "source": [
    "data_frame = xml2df(data)\n",
    "\n",
    "df = pd.DataFrame(data=data_frame, columns=[\"Year\", \"Month\", \"Cause of Death\", \"Deaths\", \"Population\", \"Crude Rate\", \"Age-adjusted Rate\", \"Age-adjusted Rate Standard Error\"])\n",
    "\n",
    "df.head()"
   ]
  },
  {
   "cell_type": "code",
   "execution_count": null,
   "metadata": {
    "slideshow": {
     "slide_type": "slide"
    }
   },
   "outputs": [],
   "source": [
    "df.groupby(by='Year').sum().head()"
   ]
  },
  {
   "cell_type": "code",
   "execution_count": null,
   "metadata": {
    "slideshow": {
     "slide_type": "slide"
    }
   },
   "outputs": [],
   "source": [
    "df_groups = df.groupby(by=['Year','Cause of Death'],as_index=False).sum()\n",
    "df_pivot = df_groups.pivot(index='Year',columns='Cause of Death',values='Deaths')\n",
    "\n",
    "ax = df_pivot.plot.area(title='Drug overdose deaths: United States')\n",
    "legend_labels = [\"X40\",\"X41\",\"X42\",\"X43\",\"X44\",\"X60\",\"X61\",\"X62\",\"X63\",\"X64\",\"X85\",\"Y10\",\"Y11\",\"Y12\",\"Y13\",\"Y14\"]\n",
    "ax.legend(legend_labels);\n",
    "ax.set_ylabel(\"Deaths per 100,000\")\n",
    "fig = plt.gcf()\n",
    "fig.set_size_inches(16,9)"
   ]
  },
  {
   "cell_type": "code",
   "execution_count": null,
   "metadata": {},
   "outputs": [],
   "source": []
  }
 ],
 "metadata": {
  "celltoolbar": "Slideshow",
  "kernelspec": {
   "display_name": "Python 3",
   "language": "python",
   "name": "python3"
  },
  "language_info": {
   "codemirror_mode": {
    "name": "ipython",
    "version": 3
   },
   "file_extension": ".py",
   "mimetype": "text/x-python",
   "name": "python",
   "nbconvert_exporter": "python",
   "pygments_lexer": "ipython3",
   "version": "3.7.4"
  },
  "varInspector": {
   "cols": {
    "lenName": 16,
    "lenType": 16,
    "lenVar": 40
   },
   "kernels_config": {
    "python": {
     "delete_cmd_postfix": "",
     "delete_cmd_prefix": "del ",
     "library": "var_list.py",
     "varRefreshCmd": "print(var_dic_list())"
    },
    "r": {
     "delete_cmd_postfix": ") ",
     "delete_cmd_prefix": "rm(",
     "library": "var_list.r",
     "varRefreshCmd": "cat(var_dic_list()) "
    }
   },
   "types_to_exclude": [
    "module",
    "function",
    "builtin_function_or_method",
    "instance",
    "_Feature"
   ],
   "window_display": false
  }
 },
 "nbformat": 4,
 "nbformat_minor": 2
}
