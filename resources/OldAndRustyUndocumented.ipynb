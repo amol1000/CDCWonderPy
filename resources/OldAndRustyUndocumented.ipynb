{
 "cells": [
  {
   "cell_type": "code",
   "execution_count": null,
   "metadata": {
    "slideshow": {
     "slide_type": "slide"
    }
   },
   "outputs": [],
   "source": [
    "b_parameters = {\n",
    "    \"B_1\": \"D76.V1-level1\",\n",
    "    \"B_2\": \"D76.V8\",\n",
    "    \"B_3\": \"*None*\", \n",
    "    \"B_4\": \"*None*\", \n",
    "    \"B_5\": \"*None*\"\n",
    "}\n",
    "m_parameters = {\n",
    "    \"M_1\": \"D76.M1\",\n",
    "    \"M_2\": \"D76.M2\",\n",
    "    \"M_3\": \"D76.M3\",\n",
    "}\n",
    "f_parameters = {\n",
    "    \"F_D76.V1\": [\"*All*\"],\n",
    "    \"F_D76.V10\": [\"*All*\"],\n",
    "    \"F_D76.V2\": [\"K00-K92\"],\n",
    "    \"F_D76.V27\": [\"*All*\"],\n",
    "    \"F_D76.V9\": [\"*All*\"]\n",
    "}\n",
    "i_parameters = {\n",
    "    \"I_D76.V1\": \"*All* (All Dates)\",\n",
    "    \"I_D76.V10\": \"*All* (The United States)\",\n",
    "    \"I_D76.V2\": \"K00-K92 (Diseases of the digestive system)\",\n",
    "    \"I_D76.V27\": \"*All* (The United States)\",\n",
    "    \"I_D76.V9\": \"*All* (The United States)\"\n",
    "}\n",
    "v_parameters = {\n",
    "    \"V_D76.V1\": \"\",\n",
    "    \"V_D76.V10\": \"\",\n",
    "    \"V_D76.V11\": \"*All*\",\n",
    "    \"V_D76.V12\": \"*All*\",\n",
    "    \"V_D76.V17\": \"*All*\",\n",
    "    \"V_D76.V19\": \"*All*\",\n",
    "    \"V_D76.V2\": \"\",\n",
    "    \"V_D76.V20\": \"*All*\",\n",
    "    \"V_D76.V21\": \"*All*\",\n",
    "    \"V_D76.V22\": \"*All*\",\n",
    "    \"V_D76.V23\": \"*All*\",\n",
    "    \"V_D76.V24\": \"*All*\",\n",
    "    \"V_D76.V25\": \"*All*\",\n",
    "    \"V_D76.V27\": \"\",\n",
    "    \"V_D76.V4\": \"*All*\",\n",
    "    \"V_D76.V5\": [\"15-24\", \"25-34\", \"35-44\"],\n",
    "    \"V_D76.V51\": \"*All*\",\n",
    "    \"V_D76.V52\": \"*All*\",\n",
    "    \"V_D76.V6\": \"00\",\n",
    "    \"V_D76.V7\": \"*All*\",\n",
    "    \"V_D76.V8\": \"*All*\",\n",
    "    \"V_D76.V9\": \"\"\n",
    "}\n",
    "o_parameters = {\n",
    "    \"O_V10_fmode\": \"freg\",\n",
    "    \"O_V1_fmode\": \"freg\",\n",
    "    \"O_V27_fmode\": \"freg\",\n",
    "    \"O_V2_fmode\": \"freg\",\n",
    "    \"O_V9_fmode\": \"freg\",\n",
    "    \"O_aar\": \"aar_none\",\n",
    "    \"O_aar_pop\": \"0000\",\n",
    "    \"O_age\": \"D76.V5\",\n",
    "    \"O_javascript\": \"on\",\n",
    "    \"O_location\": \"D76.V9\",\n",
    "    \"O_precision\": \"9\",\n",
    "    \"O_rate_per\": \"100000\",\n",
    "    \"O_show_totals\": \"false\",\n",
    "    \"O_timeout\": \"300\",\n",
    "    \"O_title\": \"Digestive Disease Deaths, by Year and Race\",\n",
    "    \"O_ucd\": \"D76.V2\",\n",
    "    \"O_urban\": \"D76.V19\"\n",
    "}\n",
    "vm_parameters = {\n",
    "    \"VM_D76.M6_D76.V10\": \"\",\n",
    "    \"VM_D76.M6_D76.V17\": \"*All*\",\n",
    "    \"VM_D76.M6_D76.V1_S\": \"*All*\",\n",
    "    \"VM_D76.M6_D76.V7\": \"*All*\",\n",
    "    \"VM_D76.M6_D76.V8\": \"*All*\"\n",
    "}\n",
    "misc_parameters = {\n",
    "    \"action-Send\": \"Send\",\n",
    "    \"finder-stage-D76.V1\": \"codeset\",\n",
    "    \"finder-stage-D76.V1\": \"codeset\",\n",
    "    \"finder-stage-D76.V2\": \"codeset\",\n",
    "    \"finder-stage-D76.V27\": \"codeset\",\n",
    "    \"finder-stage-D76.V9\": \"codeset\",\n",
    "    \"stage\": \"request\"\n",
    "}"
   ]
  },
  {
   "cell_type": "code",
   "execution_count": null,
   "metadata": {
    "slideshow": {
     "slide_type": "slide"
    }
   },
   "outputs": [],
   "source": [
    "def createParameterList(parameterList):\n",
    "    parameterString = \"\"\n",
    "    \n",
    "    for key in parameterList:\n",
    "        parameterString += \"<parameter>\\n\"\n",
    "        parameterString += \"<name>\" + key + \"</name>\\n\"\n",
    "        \n",
    "        if isinstance(parameterList[key], list):\n",
    "            for value in parameterList[key]:\n",
    "                parameterString += \"<value>\" + value + \"</value>\\n\"\n",
    "        else:\n",
    "            parameterString += \"<value>\" + parameterList[key] + \"</value>\\n\"\n",
    "        \n",
    "        parameterString += \"</parameter>\\n\"\n",
    "        \n",
    "    return parameterString"
   ]
  },
  {
   "cell_type": "code",
   "execution_count": null,
   "metadata": {
    "slideshow": {
     "slide_type": "slide"
    }
   },
   "outputs": [],
   "source": [
    "xml_request = \"<request-parameters>\\n\"\n",
    "xml_request += createParameterList(b_parameters)\n",
    "xml_request += createParameterList(m_parameters)\n",
    "xml_request += createParameterList(f_parameters)\n",
    "xml_request += createParameterList(i_parameters)\n",
    "xml_request += createParameterList(o_parameters)\n",
    "xml_request += createParameterList(vm_parameters)\n",
    "xml_request += createParameterList(v_parameters)\n",
    "xml_request += createParameterList(misc_parameters)\n",
    "xml_request += \"</request-parameters>\""
   ]
  },
  {
   "cell_type": "code",
   "execution_count": null,
   "metadata": {
    "slideshow": {
     "slide_type": "slide"
    }
   },
   "outputs": [],
   "source": [
    "import requests\n",
    "\n",
    "url = \"https://wonder.cdc.gov/controller/datarequest/D76\"\n",
    "response = requests.post(url, data={\"request_xml\": xml_request, \"accept_datause_restrictions\": \"true\"})\n",
    "\n",
    "if response.status_code == 200:\n",
    "    data = response.text\n",
    "else:\n",
    "    print(\"something went wrong\")"
   ]
  },
  {
   "cell_type": "code",
   "execution_count": null,
   "metadata": {
    "slideshow": {
     "slide_type": "slide"
    }
   },
   "outputs": [],
   "source": [
    "import bs4 as bs\n",
    "import pandas as pd"
   ]
  },
  {
   "cell_type": "code",
   "execution_count": null,
   "metadata": {
    "code_folding": [],
    "slideshow": {
     "slide_type": "slide"
    }
   },
   "outputs": [],
   "source": [
    "def xml2df(xml_data):\n",
    "    root = bs.BeautifulSoup(xml_data,\"lxml\")\n",
    "    all_records = []\n",
    "    row_number = 0\n",
    "    rows = root.find_all(\"r\")\n",
    "    \n",
    "    for row in rows:\n",
    "        if row_number >= len(all_records):\n",
    "            all_records.append([])\n",
    "              \n",
    "        for cell in row.find_all(\"c\"):\n",
    "            if 'v' in cell.attrs:\n",
    "                try:\n",
    "                    all_records[row_number].append(float(cell.attrs[\"v\"].replace(',','')))\n",
    "                except ValueError:\n",
    "                    all_records[row_number].append(cell.attrs[\"v\"])\n",
    "            else:\n",
    "                if 'r' not in cell.attrs:\n",
    "                    all_records[row_number].append(cell.attrs[\"l\"])\n",
    "                else:\n",
    "                \n",
    "                    for row_index in range(int(cell.attrs[\"r\"])):\n",
    "                        if (row_number + row_index) >= len(all_records):\n",
    "                            all_records.append([])\n",
    "                            all_records[row_number + row_index].append(cell.attrs[\"l\"])\n",
    "                        else:\n",
    "                            all_records[row_number + row_index].append(cell.attrs[\"l\"])\n",
    "                                           \n",
    "        row_number += 1\n",
    "    return all_records"
   ]
  },
  {
   "cell_type": "code",
   "execution_count": null,
   "metadata": {
    "slideshow": {
     "slide_type": "slide"
    }
   },
   "outputs": [],
   "source": [
    "data_frame = xml2df(data)\n",
    "\n",
    "pd.DataFrame(data=data_frame, columns=[\"Year\", \"Race\", \"Deaths\", \"Population\", \"Crude Rate Per 100,000\"])"
   ]
  }
 ],
 "metadata": {
  "celltoolbar": "Slideshow",
  "kernelspec": {
   "display_name": "Python 3",
   "language": "python",
   "name": "python3"
  },
  "language_info": {
   "codemirror_mode": {
    "name": "ipython",
    "version": 3
   },
   "file_extension": ".py",
   "mimetype": "text/x-python",
   "name": "python",
   "nbconvert_exporter": "python",
   "pygments_lexer": "ipython3",
   "version": "3.7.4"
  },
  "varInspector": {
   "cols": {
    "lenName": 16,
    "lenType": 16,
    "lenVar": 40
   },
   "kernels_config": {
    "python": {
     "delete_cmd_postfix": "",
     "delete_cmd_prefix": "del ",
     "library": "var_list.py",
     "varRefreshCmd": "print(var_dic_list())"
    },
    "r": {
     "delete_cmd_postfix": ") ",
     "delete_cmd_prefix": "rm(",
     "library": "var_list.r",
     "varRefreshCmd": "cat(var_dic_list()) "
    }
   },
   "types_to_exclude": [
    "module",
    "function",
    "builtin_function_or_method",
    "instance",
    "_Feature"
   ],
   "window_display": false
  }
 },
 "nbformat": 4,
 "nbformat_minor": 2
}
